{
 "cells": [
  {
   "cell_type": "markdown",
   "id": "57c9a66c-7361-4c74-9034-92dd8f84dc39",
   "metadata": {},
   "source": [
    "In the variant calling we use several different tools.\n",
    " * Sra-tools\n",
    " * BWA\n",
    " * Samtools\n",
    " * bcftools\n",
    " * vcftools\n",
    "Since we already have SRA-tools set up and we downloaded the SRA archive that we are going to use, we can proceed to run the BWA on the dataset"
   ]
  },
  {
   "cell_type": "markdown",
   "id": "2e28f114-1db1-424d-af81-da848bb6fbf3",
   "metadata": {},
   "source": [
    "Let's start by create the output directory. It will help to keep everything organized"
   ]
  },
  {
   "cell_type": "code",
   "execution_count": null,
   "id": "906fdfb0-084e-487d-96e6-93c7fa82451b",
   "metadata": {},
   "outputs": [],
   "source": [
    "!mkdir -p variant-calling"
   ]
  },
  {
   "cell_type": "markdown",
   "id": "d2a66a14-d9e4-4371-ab39-49d858b96988",
   "metadata": {},
   "source": [
    "We need to index the reference genome for BWA. It is the first use of `bwa` program so it needs to be installed"
   ]
  },
  {
   "cell_type": "code",
   "execution_count": null,
   "id": "1ea43590-3595-488a-90df-0c6275948752",
   "metadata": {},
   "outputs": [],
   "source": [
    "%%bash\n",
    "module purge\n",
    "eval \"$(conda shell.bash hook)\"\n",
    "\n",
    "conda activate envx\n",
    "mamba install -q -y -c conda-forge -c bioconda bwa\n",
    "echo \"Done\""
   ]
  },
  {
   "cell_type": "markdown",
   "id": "d58f3f4f-eb4c-4685-b9bb-09bad822a4cf",
   "metadata": {},
   "source": [
    "BWA is ready, so go ahead and index the reference genome"
   ]
  },
  {
   "cell_type": "code",
   "execution_count": null,
   "id": "b5c65a42-2ff4-443d-a452-e7c954e744f7",
   "metadata": {},
   "outputs": [],
   "source": [
    "%%bash\n",
    "module purge\n",
    "eval \"$(conda shell.bash hook)\"\n",
    "\n",
    "conda activate envx\n",
    "bwa index ecoli_rel606.fasta\n",
    "echo \"Done\""
   ]
  },
  {
   "cell_type": "markdown",
   "id": "9d1f74f7-a771-4ca8-96af-0b457194168f",
   "metadata": {},
   "source": [
    "For the variant calling, we will use the `SRR2584866` downloaded in the first task. BWA is already present in the environment so it can be used right away to align the reads to the reference genome"
   ]
  },
  {
   "cell_type": "code",
   "execution_count": null,
   "id": "19698ec4-e5ef-4be2-a724-90563c786cf1",
   "metadata": {},
   "outputs": [],
   "source": [
    "%%bash\n",
    "module purge\n",
    "eval \"$(conda shell.bash hook)\"\n",
    "\n",
    "conda activate envx\n",
    "bwa mem -t 10 ecoli_rel606.fasta SRR2584866_1.fastq SRR2584866_2.fastq > variant-calling/SRR2584866.aligned.sam\n",
    "echo \"Done\""
   ]
  },
  {
   "cell_type": "markdown",
   "id": "bbe40fa1-5a8b-43cb-b204-20731e3dabda",
   "metadata": {},
   "source": [
    "The next step is to convert sam to bam format. It is done with the samtools package. The following installs the package in the conda environment"
   ]
  },
  {
   "cell_type": "code",
   "execution_count": null,
   "id": "74d300d4-8ba5-49ef-a352-b09ca1e8b22e",
   "metadata": {},
   "outputs": [],
   "source": [
    "%%bash\n",
    "module purge\n",
    "eval \"$(conda shell.bash hook)\"\n",
    "\n",
    "conda activate envx\n",
    "mamba install -q -y -c conda-forge -c bioconda samtools\n",
    "echo \"Done\""
   ]
  },
  {
   "cell_type": "markdown",
   "id": "6f7f5963-4e85-44d8-b27d-26cd9bb82593",
   "metadata": {},
   "source": [
    "Go ahead and convert the text sam to binary bam format"
   ]
  },
  {
   "cell_type": "code",
   "execution_count": null,
   "id": "d14d07ec-d07f-4f7a-9d8b-16f4ab783038",
   "metadata": {},
   "outputs": [],
   "source": [
    "%%bash\n",
    "module purge\n",
    "eval \"$(conda shell.bash hook)\"\n",
    "\n",
    "conda activate envx\n",
    "samtools view -S -b variant-calling/SRR2584866.aligned.sam > variant-calling/SRR2584866.aligned.bam\n",
    "echo \"Done\""
   ]
  },
  {
   "cell_type": "markdown",
   "id": "2e3aebb8-cc40-44e0-8152-a5db0d413283",
   "metadata": {},
   "source": [
    "Next step is to sort the bam file"
   ]
  },
  {
   "cell_type": "code",
   "execution_count": null,
   "id": "2c8b9505-b48d-4658-8ef4-b3af159b78db",
   "metadata": {},
   "outputs": [],
   "source": [
    "%%bash\n",
    "module purge\n",
    "eval \"$(conda shell.bash hook)\"\n",
    "\n",
    "conda activate envx\n",
    "samtools sort -o variant-calling/SRR2584866.aligned.sorted.bam variant-calling/SRR2584866.aligned.bam\n",
    "echo \"Done\""
   ]
  },
  {
   "cell_type": "markdown",
   "id": "4568b271-6fc3-47c3-9f2f-9610cabf3e2e",
   "metadata": {},
   "source": [
    "To speed up next steps we need to create an index for the sorted bam file"
   ]
  },
  {
   "cell_type": "code",
   "execution_count": null,
   "id": "42128cba-eb23-4719-885b-4344f14ee334",
   "metadata": {},
   "outputs": [],
   "source": [
    "%%bash\n",
    "module purge\n",
    "eval \"$(conda shell.bash hook)\"\n",
    "\n",
    "conda activate envx\n",
    "samtools index variant-calling/SRR2584866.aligned.sorted.bam\n",
    "echo \"Done\""
   ]
  },
  {
   "cell_type": "markdown",
   "id": "e5f23d8e-8b61-4104-8cb3-7c66054492be",
   "metadata": {},
   "source": [
    "The `bcftools` package is used to calculate the read coverage of positions in the genome. The next cell installs `bcftools` in the environment"
   ]
  },
  {
   "cell_type": "code",
   "execution_count": null,
   "id": "c8378752-d92e-415e-8fa7-bca6e22610e1",
   "metadata": {},
   "outputs": [],
   "source": [
    "%%bash\n",
    "module purge\n",
    "eval \"$(conda shell.bash hook)\"\n",
    "\n",
    "conda activate envx\n",
    "mamba install -q -y -c conda-forge -c bioconda bcftools\n",
    "echo \"Done\""
   ]
  },
  {
   "cell_type": "markdown",
   "id": "3d12253a-6060-4137-b9f3-ea9b816baa17",
   "metadata": {},
   "source": [
    "Go ahead and run the bcftools on aligned and sorted bam file. Note taht we are using 6 CPU threads"
   ]
  },
  {
   "cell_type": "code",
   "execution_count": null,
   "id": "b56ee07d-5c80-4e43-9fb4-2f7e350ef8eb",
   "metadata": {},
   "outputs": [],
   "source": [
    "%%bash\n",
    "module purge\n",
    "eval \"$(conda shell.bash hook)\"\n",
    "\n",
    "conda activate envx\n",
    "bcftools mpileup --threads 6 -O b -o variant-calling/SRR2584866.raw.bcf -f ecoli_rel606.fasta variant-calling/SRR2584866.aligned.sorted.bam\n",
    "echo \"Done\""
   ]
  },
  {
   "cell_type": "markdown",
   "id": "891f139a-3e4b-481c-b853-93408fedc76c",
   "metadata": {},
   "source": [
    "`bcftools` is also used to detect the single nucleotide variants (SNVs)"
   ]
  },
  {
   "cell_type": "code",
   "execution_count": null,
   "id": "8e578ba5-6f18-488a-9023-e92ce578c474",
   "metadata": {},
   "outputs": [],
   "source": [
    "%%bash\n",
    "module purge\n",
    "eval \"$(conda shell.bash hook)\"\n",
    "\n",
    "conda activate envx\n",
    "bcftools call --ploidy 1 -m -v -o variant-calling/SRR2584866.vcf variant-calling/SRR2584866.raw.bcf\n",
    "echo \"Done\""
   ]
  },
  {
   "cell_type": "markdown",
   "id": "bb11a01a-da64-4462-b463-c8f00d257fdf",
   "metadata": {},
   "source": [
    "The last step in Variant Calling is done with the `vcfutils`. We need to filter and report the SNV variants in variant calling format (VCF).\n",
    "First, we need the `vcftools` package"
   ]
  },
  {
   "cell_type": "code",
   "execution_count": null,
   "id": "52121e22-5398-4ef3-822e-4bc08e89675b",
   "metadata": {},
   "outputs": [],
   "source": [
    "%%bash\n",
    "module purge\n",
    "eval \"$(conda shell.bash hook)\"\n",
    "\n",
    "conda activate envx\n",
    "mamba install -q -y -c conda-forge -c bioconda vcftools\n",
    "echo \"Done\""
   ]
  },
  {
   "cell_type": "markdown",
   "id": "8b57885e-caa6-42ea-9a00-7f52fdb36ad5",
   "metadata": {},
   "source": [
    "Now, we can run the last step and check the output"
   ]
  },
  {
   "cell_type": "code",
   "execution_count": null,
   "id": "79ad2239-98c6-41f9-9197-38527b4b1516",
   "metadata": {},
   "outputs": [],
   "source": [
    "%%bash\n",
    "module purge\n",
    "eval \"$(conda shell.bash hook)\"\n",
    "\n",
    "conda activate envx\n",
    "vcfutils.pl varFilter variant-calling/SRR2584866.vcf > variant-calling/SRR2584866_final.vcf\n",
    "echo \"Done\""
   ]
  },
  {
   "cell_type": "markdown",
   "id": "b86cc74f-1a77-4bb2-8567-57673d8a3616",
   "metadata": {},
   "source": [
    "Go to the notebook `03` and try to run the variant calling on another SRA record"
   ]
  }
 ],
 "metadata": {
  "kernelspec": {
   "display_name": "Python 3.13.1 (default)",
   "language": "python",
   "name": "python3"
  },
  "language_info": {
   "codemirror_mode": {
    "name": "ipython",
    "version": 3
   },
   "file_extension": ".py",
   "mimetype": "text/x-python",
   "name": "python",
   "nbconvert_exporter": "python",
   "pygments_lexer": "ipython3",
   "version": "3.13.1"
  }
 },
 "nbformat": 4,
 "nbformat_minor": 5
}
