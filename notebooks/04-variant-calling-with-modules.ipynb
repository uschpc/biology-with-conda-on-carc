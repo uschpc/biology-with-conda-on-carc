{
 "cells": [
  {
   "cell_type": "markdown",
   "id": "f3a67e0c-715f-4fd3-a96f-9d77ef433ff6",
   "metadata": {},
   "source": [
    "Exercise 2:\n",
    "1. Use one code cell\n",
    "2. Instead of conda environment, use software the modules\n",
    "3. In that code cell create commands to:\n",
    " * Download `SRR2584816` archive\n",
    " * Create the quality control command\n",
    " * Create new output directory\n",
    " * Create commands for Variant calling analysis\n",
    "3. Run the cell\n",
    "4. Report when ready\n",
    "\n",
    "You can reuse the commands from the exercise in the notebook `03` "
   ]
  },
  {
   "cell_type": "code",
   "execution_count": null,
   "id": "289be3fb-49cb-4bb3-8ff0-0de93837ee95",
   "metadata": {},
   "outputs": [],
   "source": [
    "%%bash\n",
    "module purge\n",
    "module load usc\n",
    "module load sratoolkit\n",
    "module load fastqc\n",
    "module load openjdk\n",
    "module load bwa\n",
    "module load bcftools\n",
    "module load vcftools\n",
    "#put your code below\n"
   ]
  }
 ],
 "metadata": {
  "kernelspec": {
   "display_name": "My env x",
   "language": "python",
   "name": "envx"
  },
  "language_info": {
   "codemirror_mode": {
    "name": "ipython",
    "version": 3
   },
   "file_extension": ".py",
   "mimetype": "text/x-python",
   "name": "python",
   "nbconvert_exporter": "python",
   "pygments_lexer": "ipython3",
   "version": "3.10.16"
  }
 },
 "nbformat": 4,
 "nbformat_minor": 5
}
