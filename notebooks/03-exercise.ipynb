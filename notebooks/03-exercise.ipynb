{
 "cells": [
  {
   "cell_type": "markdown",
   "id": "afc2ce01-029a-4482-bf0d-c0aa83a8881d",
   "metadata": {},
   "source": [
    "Exercise:\n",
    "1. Use just one code cell for the conda environment that was used in notebooks `00`, `01`, and `02`\n",
    "2. In that code cell create commands to:\n",
    " * Download `SRR2589044` archive\n",
    " * Create the quality control command\n",
    " * Create new output directory\n",
    " * Create commands for Variant calling analysis\n",
    "3. Run the cell\n",
    "4. Report when ready\n",
    "\n",
    "Use the cell below to start and expand it with your code"
   ]
  },
  {
   "cell_type": "code",
   "execution_count": null,
   "id": "366b7789-be09-4272-aea1-b22e0a066a5f",
   "metadata": {},
   "outputs": [],
   "source": [
    "%%bash\n",
    "module purge\n",
    "eval \"$(conda shell.bash hook)\"\n"
   ]
  }
 ],
 "metadata": {
  "kernelspec": {
   "display_name": "My env x",
   "language": "python",
   "name": "envx"
  },
  "language_info": {
   "codemirror_mode": {
    "name": "ipython",
    "version": 3
   },
   "file_extension": ".py",
   "mimetype": "text/x-python",
   "name": "python",
   "nbconvert_exporter": "python",
   "pygments_lexer": "ipython3",
   "version": "3.10.16"
  }
 },
 "nbformat": 4,
 "nbformat_minor": 5
}
