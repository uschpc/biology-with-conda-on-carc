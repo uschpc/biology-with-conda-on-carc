{
 "cells": [
  {
   "cell_type": "markdown",
   "metadata": {},
   "source": [
    "## Processing Biodata Using Conda, Jupyterlab and CARC OnDemand\n",
    "\n",
    "#### Conda\n",
    "\n",
    "Conda is a package and environment manager primarily used for open-source data science packages for the Python and R programming languages. It also supports other programming languages like C, C++, FORTRAN, Java, Scala, Ruby, and Lua.\n",
    "\n",
    "#### Note: Commands from this notebook should be run in a terminal. \n",
    "\n",
    "#### Note: Setting up conda is a one-time process. Consecutive use requires only purging any loaded modules and activating the conda environment.\n",
    "\n",
    "#### Using Conda on CARC systems\n",
    "\n",
    "Go to `File`->`New`->`Terminal` and launch it, then use it to run the commands below.\n",
    "\n",
    "To use Conda, first load the corresponding module:"
   ]
  },
  {
   "cell_type": "raw",
   "metadata": {},
   "source": [
    "module purge\n",
    "module load conda"
   ]
  },
  {
   "cell_type": "markdown",
   "metadata": {},
   "source": [
    "This module is based on the minimal Miniconda installer which includes the package and environment manager Conda that installs and updates packages and their dependencies. This module also provides Mamba, which is a drop-in replacement for most conda commands that enables faster package solving, downloading, and installing.\n",
    "\n",
    "The next step is to initialize your shell to use Conda and Mamba:"
   ]
  },
  {
   "cell_type": "raw",
   "metadata": {},
   "source": [
    "mamba init bash\n",
    "source ~/.bashrc"
   ]
  },
  {
   "cell_type": "markdown",
   "metadata": {},
   "source": [
    "This modifies your ~/.bashrc file so that Conda and Mamba are ready to use every time you log in (without needing to load the module).\n",
    "\n",
    "If you want a newer version of Conda or Mamba than what is available in the module, you can also install them into one of your directories. We recommend installing either [Miniconda](https://docs.conda.io/en/latest/miniconda.html) or [Mambaforge](https://mamba.readthedocs.io/en/latest/installation/mamba-installation.html).\n",
    "\n",
    "Conda can also be configured with various options. Read more about Conda configuration [here](https://docs.conda.io/projects/conda/en/latest/user-guide/configuration/use-condarc.html).\n",
    "\n",
    "#### Integrated development environments\n",
    "JupyterLab, VSCode, RStudio, and other integrated development environments (IDEs) can be used on compute nodes via our [OnDemand](https://www.carc.usc.edu/user-guides/carc-ondemand) service. To install Jupyter kernels, see our guide [here](https://www.carc.usc.edu/user-guides/hpc-systems/software/jupyter-kernels.html).\n",
    "\n",
    "### Installing Conda environments and packages\n",
    "You can create new Conda environments in one of your available directories. Conda environments are isolated project environments designed to manage distinct package requirements and dependencies for different projects. We recommend using the `mamba` command for faster package solving, downloading, and installing, but you can also use the `conda` command.\n",
    "\n",
    "The process for creating and using environments has a few basic steps:\n",
    "\n",
    "Create an environment with `mamba create`\n",
    "Activate the environment with `mamba activate`\n",
    "Install packages into the environment with `mamba install`\n",
    "To create a new Conda environment in your home directory, enter:"
   ]
  },
  {
   "cell_type": "raw",
   "metadata": {},
   "source": [
    "mamba create --name env_name"
   ]
  },
  {
   "cell_type": "markdown",
   "metadata": {},
   "source": [
    "where `env_name` is the name your want for your environment. Then activate the environment:"
   ]
  },
  {
   "cell_type": "raw",
   "metadata": {},
   "source": [
    "conda activate env_name"
   ]
  },
  {
   "cell_type": "markdown",
   "metadata": {},
   "source": [
    "Once activated, you can install packages in that environment. Software can be installed from various channels. The conda community maintains software channels. The most popular channels are `conda-forge` and `bioconda`. Most of the time, you can use `mamba` and `conda` commands interchangeably as they both have the same function and differ in the programming language in which they were written.\n",
    "\n",
    "Let's install `python3.10` in the freshly created empty environment with `conda`:"
   ]
  },
  {
   "cell_type": "raw",
   "metadata": {},
   "source": [
    "conda install -y -c conda-forge python=3.10"
   ]
  },
  {
   "cell_type": "markdown",
   "metadata": {},
   "source": [
    "The above command installed pip as a dependency. Pip is often used to install Python packages. However, pip does not maintain the Python environment and should be run in one.\n",
    "\n",
    "We need to connect the new environment with this Jupyterlab, so we need to install the `ipykernel` package. This time let's use `mamba`:"
   ]
  },
  {
   "cell_type": "raw",
   "metadata": {},
   "source": [
    "mamba install -y -c conda-forge ipykernel nb_conda_kernels"
   ]
  },
  {
   "cell_type": "markdown",
   "metadata": {},
   "source": [
    "Now, we need to run the following command to add the new environment to the list of jupyterlab kernels:"
   ]
  },
  {
   "cell_type": "raw",
   "metadata": {},
   "source": [
    "python -m ipykernel install --user --name env_name --display-name \"My env\""
   ]
  },
  {
   "cell_type": "raw",
   "metadata": {},
   "source": [
    "jupyter kernelspec list"
   ]
  },
  {
   "cell_type": "markdown",
   "metadata": {},
   "source": [
    "To find packages names, visit [anaconda.org](https://anaconda.org) and serach for the package. When you install a missing package in an environment connected to jupyterlab it is immediately available and you can just re-run the cell that displayed an error regarding the missing package."
   ]
  },
  {
   "cell_type": "markdown",
   "metadata": {},
   "source": [
    "1. `sra-tools`\n",
    "2. `fastqc`\n",
    "3. `openjdk`\n",
    "4. `bwa`\n",
    "5. `bcftools`\n",
    "6. `vcftools`"
   ]
  }
 ],
 "metadata": {
  "kernelspec": {
   "display_name": "Python 3 (ipykernel)",
   "language": "python",
   "name": "python3"
  },
  "language_info": {
   "codemirror_mode": {
    "name": "ipython",
    "version": 3
   },
   "file_extension": ".py",
   "mimetype": "text/x-python",
   "name": "python",
   "nbconvert_exporter": "python",
   "pygments_lexer": "ipython3",
   "version": "3.13.2"
  }
 },
 "nbformat": 4,
 "nbformat_minor": 4
}
