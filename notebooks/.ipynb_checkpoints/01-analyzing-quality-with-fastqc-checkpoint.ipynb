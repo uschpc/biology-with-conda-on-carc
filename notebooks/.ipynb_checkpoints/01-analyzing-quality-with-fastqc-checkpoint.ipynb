{
 "cells": [
  {
   "cell_type": "markdown",
   "id": "143182fe-95a1-4b9e-aefc-0036f67b7ef4",
   "metadata": {},
   "source": [
    "Start by installing the `sra-tools` package. SRA-tools is a set of programs developed by NCBI to manage the downloading and conversion of genome reads in SRA archives.\n",
    "\n",
    "Note: Jupyter does not allow for easy execution of shell commands in a specific conda environment, so as a workaround, we need to activate the environment created in notebook `00`. If you run these commands in the terminal, you activate the conda environment only once.\n",
    "\n",
    "Note2: When you use a conda environment and install a new package there, it will be available in that environment from now on."
   ]
  },
  {
   "cell_type": "code",
   "execution_count": null,
   "id": "a9ad7fe0-9128-4133-aa35-7ba1601a6232",
   "metadata": {},
   "outputs": [],
   "source": [
    "%%bash\n",
    "module purge\n",
    "eval \"$(conda shell.bash hook)\"\n",
    "\n",
    "conda activate envx\n",
    "mamba install -q -y -c conda-forge -c bioconda sra-tools\n",
    "echo \"Done\""
   ]
  },
  {
   "cell_type": "code",
   "execution_count": null,
   "id": "50ae9bd3-a7c4-4203-885d-f9fc2da0de22",
   "metadata": {},
   "outputs": [],
   "source": [
    "!cat ~/.ncbi/user-settings.mkfg"
   ]
  },
  {
   "cell_type": "code",
   "execution_count": null,
   "id": "ad4d78d3-8b0d-40c5-8dd2-433068508040",
   "metadata": {},
   "outputs": [],
   "source": [
    "%%bash\n",
    "module purge\n",
    "eval \"$(conda shell.bash hook)\"\n",
    "\n",
    "conda activate envx\n",
    "vdb-config --restore-defaults\n",
    "echo \"Done\""
   ]
  },
  {
   "cell_type": "code",
   "execution_count": null,
   "id": "236aa7b3-e6ab-40d1-9de6-88176db5a7f9",
   "metadata": {},
   "outputs": [],
   "source": [
    "!cat ~/.ncbi/user-settings.mkfg"
   ]
  },
  {
   "cell_type": "markdown",
   "id": "1581e209-66bc-4517-a9be-5f1f5d873f90",
   "metadata": {},
   "source": [
    "Get the source data. \n",
    "The example used here is from the [E. coli genome evolution over 50,000 generations](https://www.ncbi.nlm.nih.gov/bioproject/PRJNA295606) project."
   ]
  },
  {
   "cell_type": "code",
   "execution_count": null,
   "id": "7b7cb42b-8718-447f-8035-3add2a0df064",
   "metadata": {},
   "outputs": [],
   "source": [
    "%%bash\n",
    "module purge\n",
    "eval \"$(conda shell.bash hook)\"\n",
    "\n",
    "conda activate envx\n",
    "prefetch SRR2584866\n",
    "fasterq-dump --split-files -e 1 SRR2584866\n",
    "echo \"Done\""
   ]
  },
  {
   "cell_type": "markdown",
   "id": "7d08d67b-15eb-4086-80c6-2dfa0ea3b18a",
   "metadata": {},
   "source": [
    "There is no `fastqc` command available, so it needs to be installed. The recent FastQC requires java which is provided by openjdk package."
   ]
  },
  {
   "cell_type": "code",
   "execution_count": null,
   "id": "ccffd50b-3fe3-4256-a40e-b4a58319dd21",
   "metadata": {},
   "outputs": [],
   "source": [
    "%%bash\n",
    "module purge\n",
    "eval \"$(conda shell.bash hook)\"\n",
    "\n",
    "conda activate envx\n",
    "mamba install -q -y -c conda-forge -c bioconda fastqc openjdk\n",
    "echo \"Done\""
   ]
  },
  {
   "cell_type": "markdown",
   "id": "fe27e890-934e-42b7-9d71-98b88aa86f4a",
   "metadata": {},
   "source": [
    "FastQC is now ready to run quality control on `SRR2584866` fastq file"
   ]
  },
  {
   "cell_type": "code",
   "execution_count": null,
   "id": "e45578e3-4e2a-4322-9ba6-ee7c151fae97",
   "metadata": {},
   "outputs": [],
   "source": [
    "%%bash\n",
    "module purge\n",
    "eval \"$(conda shell.bash hook)\"\n",
    "\n",
    "conda activate envx\n",
    "fastqc SRR2584866*.fastq\n",
    "echo \"Done\""
   ]
  }
 ],
 "metadata": {
  "kernelspec": {
   "display_name": "My env x",
   "language": "python",
   "name": "envx"
  },
  "language_info": {
   "codemirror_mode": {
    "name": "ipython",
    "version": 3
   },
   "file_extension": ".py",
   "mimetype": "text/x-python",
   "name": "python",
   "nbconvert_exporter": "python",
   "pygments_lexer": "ipython3",
   "version": "3.10.16"
  }
 },
 "nbformat": 4,
 "nbformat_minor": 5
}
