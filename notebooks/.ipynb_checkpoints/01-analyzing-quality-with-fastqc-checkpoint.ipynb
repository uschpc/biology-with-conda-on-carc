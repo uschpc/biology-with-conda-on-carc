{
 "cells": [
  {
   "cell_type": "markdown",
   "id": "055a0e60-ae42-4ec3-acca-9449cc104389",
   "metadata": {},
   "source": [
    "Find"
   ]
  },
  {
   "cell_type": "markdown",
   "id": "143182fe-95a1-4b9e-aefc-0036f67b7ef4",
   "metadata": {},
   "source": [
    "1. Setup SRA tools"
   ]
  },
  {
   "cell_type": "code",
   "execution_count": null,
   "id": "ad4d78d3-8b0d-40c5-8dd2-433068508040",
   "metadata": {},
   "outputs": [],
   "source": [
    "!mamba install -q -y -c conda-forge -c bioconda sra-tools"
   ]
  },
  {
   "cell_type": "code",
   "execution_count": null,
   "id": "6fb13fd4-e2ae-45cb-aa1c-58d7e735c7e0",
   "metadata": {},
   "outputs": [],
   "source": [
    "!vdb-config --restore-defaults && printf '/LIBS/GUID = \"%s\"\\n' `uuidgen` >> ~/.ncbi/user-settings.mkfg"
   ]
  },
  {
   "cell_type": "code",
   "execution_count": null,
   "id": "50ae9bd3-a7c4-4203-885d-f9fc2da0de22",
   "metadata": {},
   "outputs": [],
   "source": [
    "!cat ~/.ncbi/user-settings.mkfg"
   ]
  },
  {
   "cell_type": "markdown",
   "id": "1581e209-66bc-4517-a9be-5f1f5d873f90",
   "metadata": {},
   "source": [
    "Get the source data. \n",
    "The example use is from [E. coli genome evolution over 50,000 generations](https://www.ncbi.nlm.nih.gov/bioproject/PRJNA295606) project."
   ]
  },
  {
   "cell_type": "code",
   "execution_count": null,
   "id": "a9ad7fe0-9128-4133-aa35-7ba1601a6232",
   "metadata": {},
   "outputs": [],
   "source": [
    "!echo $CONDA_PREFIX"
   ]
  },
  {
   "cell_type": "code",
   "execution_count": null,
   "id": "7b7cb42b-8718-447f-8035-3add2a0df064",
   "metadata": {},
   "outputs": [],
   "source": [
    "!prefetch SRR2584866"
   ]
  },
  {
   "cell_type": "code",
   "execution_count": null,
   "id": "88f53b3a-0fa8-4df3-8f8c-5802aae27db1",
   "metadata": {},
   "outputs": [],
   "source": [
    "!fasterq-dump --split-files -e 1 SRR2584866"
   ]
  },
  {
   "cell_type": "code",
   "execution_count": null,
   "id": "e0f2db0c-44af-4143-b401-eab8ceb3f4bf",
   "metadata": {},
   "outputs": [],
   "source": [
    "!prefetch SRR2589044"
   ]
  },
  {
   "cell_type": "code",
   "execution_count": null,
   "id": "caa036e5-204f-46c4-a266-9fdd5c1579c5",
   "metadata": {},
   "outputs": [],
   "source": [
    "!fasterq-dump --split-files -e 1 SRR2589044"
   ]
  },
  {
   "cell_type": "code",
   "execution_count": null,
   "id": "ccffd50b-3fe3-4256-a40e-b4a58319dd21",
   "metadata": {},
   "outputs": [],
   "source": [
    "!fastqc *SRR2584866*fastqc*"
   ]
  },
  {
   "cell_type": "code",
   "execution_count": null,
   "id": "fca25fe1-a6b7-4711-a96a-80126a712dd9",
   "metadata": {},
   "outputs": [],
   "source": [
    "!fastqc *SRR2589044*fastqc*"
   ]
  }
 ],
 "metadata": {
  "kernelspec": {
   "display_name": "E2",
   "language": "python",
   "name": "e2"
  },
  "language_info": {
   "codemirror_mode": {
    "name": "ipython",
    "version": 3
   },
   "file_extension": ".py",
   "mimetype": "text/x-python",
   "name": "python",
   "nbconvert_exporter": "python",
   "pygments_lexer": "ipython3",
   "version": "3.10.16"
  }
 },
 "nbformat": 4,
 "nbformat_minor": 5
}
