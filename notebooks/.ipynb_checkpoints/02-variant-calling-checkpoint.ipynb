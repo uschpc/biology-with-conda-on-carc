{
 "cells": [
  {
   "cell_type": "code",
   "execution_count": null,
   "id": "cac1e153-cc45-45f4-a502-4695e4732417",
   "metadata": {},
   "outputs": [],
   "source": []
  },
  {
   "cell_type": "code",
   "execution_count": null,
   "id": "5e034d5d-21f4-4018-b82a-ef31fadfee6e",
   "metadata": {},
   "outputs": [],
   "source": []
  },
  {
   "cell_type": "markdown",
   "id": "3d819453-85cc-4bc3-9147-0311d048d49b",
   "metadata": {},
   "source": [
    "SRA Toolkit"
   ]
  },
  {
   "cell_type": "code",
   "execution_count": null,
   "id": "a8692edb-404f-4cc3-9942-e7bb575ffefa",
   "metadata": {},
   "outputs": [],
   "source": []
  },
  {
   "cell_type": "markdown",
   "id": "57c9a66c-7361-4c74-9034-92dd8f84dc39",
   "metadata": {},
   "source": [
    "BWA"
   ]
  },
  {
   "cell_type": "markdown",
   "id": "05b124cc-7a7c-407e-8d39-f449891c1104",
   "metadata": {},
   "source": [
    "BWA"
   ]
  },
  {
   "cell_type": "markdown",
   "id": "db761175-3b6e-4cba-a2a4-0a1d8a61b2fa",
   "metadata": {},
   "source": [
    "Samtools"
   ]
  },
  {
   "cell_type": "markdown",
   "id": "89ddf822-0aa7-4371-9612-5344d4e388ce",
   "metadata": {},
   "source": [
    "Samtools"
   ]
  },
  {
   "cell_type": "markdown",
   "id": "20edf6a3-e415-42f4-af8e-0d689c8c346f",
   "metadata": {},
   "source": [
    "Bcftools"
   ]
  },
  {
   "cell_type": "markdown",
   "id": "2be562b9-ae5f-40fb-abea-d282c1315063",
   "metadata": {},
   "source": [
    "Bcftools"
   ]
  },
  {
   "cell_type": "markdown",
   "id": "8774a1b1-dd3e-4125-97b6-0428ec7a6ddc",
   "metadata": {},
   "source": [
    "Vcftools"
   ]
  },
  {
   "cell_type": "markdown",
   "id": "0ed6919a-e1ff-4c8a-b7c6-6b2886040c09",
   "metadata": {},
   "source": [
    "Vcftools"
   ]
  },
  {
   "cell_type": "markdown",
   "id": "127fb251-2176-42f8-a551-3c9e072bf8c8",
   "metadata": {},
   "source": [
    "1. Setup SRA toolkit"
   ]
  },
  {
   "cell_type": "code",
   "execution_count": null,
   "id": "cd55b1c0-eb0c-4fc3-b755-7108a0321432",
   "metadata": {},
   "outputs": [],
   "source": [
    "!vdb-config --restore-defaults && printf '/LIBS/GUID = \"%s\"\\n' `uuidgen` >> ~/.ncbi/user-settings.mkfg"
   ]
  },
  {
   "cell_type": "markdown",
   "id": "2e28f114-1db1-424d-af81-da848bb6fbf3",
   "metadata": {},
   "source": [
    "create output directory"
   ]
  },
  {
   "cell_type": "code",
   "execution_count": null,
   "id": "906fdfb0-084e-487d-96e6-93c7fa82451b",
   "metadata": {},
   "outputs": [],
   "source": [
    "!mkdir -p variant-calling"
   ]
  },
  {
   "cell_type": "markdown",
   "id": "d2a66a14-d9e4-4371-ab39-49d858b96988",
   "metadata": {},
   "source": [
    "We need to index the reference genome for BWA"
   ]
  },
  {
   "cell_type": "code",
   "execution_count": null,
   "id": "1ea43590-3595-488a-90df-0c6275948752",
   "metadata": {},
   "outputs": [],
   "source": [
    "!bwa index ecoli_rel606.fasta"
   ]
  },
  {
   "cell_type": "markdown",
   "id": "0d7f7b14-d8f1-4e2a-8a8d-ef140761d4dd",
   "metadata": {},
   "source": [
    "Get the source data. \n",
    "The example use is from [E. coli genome evolution over 50,000 generations](https://www.ncbi.nlm.nih.gov/bioproject/PRJNA295606) project."
   ]
  },
  {
   "cell_type": "code",
   "execution_count": null,
   "id": "9903aac7-05be-4a4a-9186-19a871b3e659",
   "metadata": {},
   "outputs": [],
   "source": [
    "!fasterq-dump --split-files -e 1 SRR2584866"
   ]
  },
  {
   "cell_type": "code",
   "execution_count": null,
   "id": "7d15c8e5-2063-4026-8e44-917f34c8ad18",
   "metadata": {},
   "outputs": [],
   "source": [
    "!fasterq-dump --split-files -e 1 SRR2589044"
   ]
  },
  {
   "cell_type": "markdown",
   "id": "9d1f74f7-a771-4ca8-96af-0b457194168f",
   "metadata": {},
   "source": [
    "align reads tp reference genome job"
   ]
  },
  {
   "cell_type": "code",
   "execution_count": null,
   "id": "19698ec4-e5ef-4be2-a724-90563c786cf1",
   "metadata": {},
   "outputs": [],
   "source": [
    "bwa mem -t 10 ecoli_rel606.fasta SRR2584866_1.fastq SRR2584866_2.fastq > variant-calling/SRR2584866.sam"
   ]
  },
  {
   "cell_type": "code",
   "execution_count": null,
   "id": "265b9ea7-dc32-4045-827a-8881fe07a02b",
   "metadata": {},
   "outputs": [],
   "source": [
    "bwa mem -t 10 ecoli_rel606.fasta SRR2589044_1.fastq SRR2589044_2.fastq > varriant-calling/SRR2589044.sam"
   ]
  },
  {
   "cell_type": "markdown",
   "id": "bbe40fa1-5a8b-43cb-b204-20731e3dabda",
   "metadata": {},
   "source": [
    "Aligning and converting $sam to bam format $bam"
   ]
  },
  {
   "cell_type": "code",
   "execution_count": null,
   "id": "74d300d4-8ba5-49ef-a352-b09ca1e8b22e",
   "metadata": {},
   "outputs": [],
   "source": [
    "samtools view -S -b SRR2584866.aligned.sam > variant-calling/SRR2584866.aligned.bam"
   ]
  },
  {
   "cell_type": "code",
   "execution_count": null,
   "id": "46392daf-d15d-4c84-a2f7-1e2422c9abce",
   "metadata": {},
   "outputs": [],
   "source": [
    "samtools view -S -b SRR2589044.aligned.sam > varriant-calling/SRR2589044.aligned.bam"
   ]
  },
  {
   "cell_type": "markdown",
   "id": "2e3aebb8-cc40-44e0-8152-a5db0d413283",
   "metadata": {},
   "source": [
    "Sorting $bam file to $sorted_bam"
   ]
  },
  {
   "cell_type": "code",
   "execution_count": null,
   "id": "2c8b9505-b48d-4658-8ef4-b3af159b78db",
   "metadata": {},
   "outputs": [],
   "source": [
    "samtools sort -o ${outdir}/${sra}.aligned.sorted.bam ${outdir}/${sra}.aligned.bam"
   ]
  },
  {
   "cell_type": "code",
   "execution_count": null,
   "id": "3c6b9904-0351-411f-8140-9bcc3c733276",
   "metadata": {},
   "outputs": [],
   "source": [
    "samtools sort -o ${outdir}/${sra}.aligned.sorted.bam ${outdir}/${sra}.aligned.bam"
   ]
  },
  {
   "cell_type": "markdown",
   "id": "4568b271-6fc3-47c3-9f2f-9610cabf3e2e",
   "metadata": {},
   "source": [
    "Indexing $sorted_bam file"
   ]
  },
  {
   "cell_type": "code",
   "execution_count": null,
   "id": "42128cba-eb23-4719-885b-4344f14ee334",
   "metadata": {},
   "outputs": [],
   "source": [
    "samtools index ${outdir}/${sra}.aligned.sorted.bam"
   ]
  },
  {
   "cell_type": "code",
   "execution_count": null,
   "id": "0d0446be-1c96-442a-a24d-a8196d973529",
   "metadata": {},
   "outputs": [],
   "source": [
    "samtools index ${outdir}/${sra}.aligned.sorted.bam"
   ]
  },
  {
   "cell_type": "markdown",
   "id": "e5f23d8e-8b61-4104-8cb3-7c66054492be",
   "metadata": {},
   "source": [
    "Variant calling\n",
    "bcftools for calculating the read coverage of positions in the genome"
   ]
  },
  {
   "cell_type": "code",
   "execution_count": null,
   "id": "b56ee07d-5c80-4e43-9fb4-2f7e350ef8eb",
   "metadata": {},
   "outputs": [],
   "source": [
    "bcftools mpileup --threads 10 -O b -o ${outdir}/${sra}.raw.bcf -f ${reference_genome} ${outdir}/${sra}.aligned.sorted.bam"
   ]
  },
  {
   "cell_type": "code",
   "execution_count": null,
   "id": "72ffd400-1ac7-4269-a4ad-36954b308d30",
   "metadata": {},
   "outputs": [],
   "source": [
    "bcftools mpileup --threads 10 -O b -o ${outdir}/${sra}.raw.bcf -f ${reference_genome} ${outdir}/${sra}.aligned.sorted.bam"
   ]
  },
  {
   "cell_type": "markdown",
   "id": "891f139a-3e4b-481c-b853-93408fedc76c",
   "metadata": {},
   "source": [
    "bcftools for Detect the single nucleotide variants (SNVs)"
   ]
  },
  {
   "cell_type": "code",
   "execution_count": null,
   "id": "8e578ba5-6f18-488a-9023-e92ce578c474",
   "metadata": {},
   "outputs": [],
   "source": [
    "bcftools call --ploidy 1 -m -v -o ${outdir}/${sra}.vcf ${outdir}/${sra}.raw.bcf"
   ]
  },
  {
   "cell_type": "code",
   "execution_count": null,
   "id": "a4ad35bd-8b7c-43d8-a143-90b0f6f229e9",
   "metadata": {},
   "outputs": [],
   "source": [
    "bcftools call --ploidy 1 -m -v -o ${outdir}/${sra}.vcf ${outdir}/${sra}.raw.bcf"
   ]
  },
  {
   "cell_type": "markdown",
   "id": "bb11a01a-da64-4462-b463-c8f00d257fdf",
   "metadata": {},
   "source": [
    "vcfutils Filter and report the SNV variants in variant calling format (VCF)"
   ]
  },
  {
   "cell_type": "code",
   "execution_count": null,
   "id": "52121e22-5398-4ef3-822e-4bc08e89675b",
   "metadata": {},
   "outputs": [],
   "source": [
    "vcfutils.pl varFilter ${outdir}/${sra}.vcf > ${outdir}/${sra}_final.vcf"
   ]
  },
  {
   "cell_type": "code",
   "execution_count": null,
   "id": "34509386-42cc-4181-9d61-5aea85dcb2a2",
   "metadata": {},
   "outputs": [],
   "source": [
    "vcfutils.pl varFilter ${outdir}/${sra}.vcf > ${outdir}/${sra}_final.vcf"
   ]
  }
 ],
 "metadata": {
  "kernelspec": {
   "display_name": "Python 3 (ipykernel)",
   "language": "python",
   "name": "python3"
  },
  "language_info": {
   "codemirror_mode": {
    "name": "ipython",
    "version": 3
   },
   "file_extension": ".py",
   "mimetype": "text/x-python",
   "name": "python",
   "nbconvert_exporter": "python",
   "pygments_lexer": "ipython3",
   "version": "3.12.2"
  }
 },
 "nbformat": 4,
 "nbformat_minor": 5
}
